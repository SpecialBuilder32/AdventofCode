{
 "cells": [
  {
   "cell_type": "markdown",
   "metadata": {},
   "source": [
    "Hello, welcome to the neural net training ground for finding christmas trees. The advent of code's first (to my knowledge) puzzle that might need machine learning :tada:\n",
    "\n",
    "Run on the CMU Machine Learning Class venv, which is hard for vscode to recognize on its own, so we launch juypter as a server and connect it\n",
    "\n",
    "from : https://help.pythonanywhere.com/pages/IPythonNotebookVirtualenvs\n",
    "```\n",
    "\"C:\\Users\\Tim\\Documents\\School\\2023-2024\\Spring Semester\\Machine Learning\\Homework\\.venv\\Scripts\\Activate\"\n",
    "juypter notebook\n",
    "```\n",
    "\n",
    "Copy URL from startup log: http://localhost:8888/tree?token=263cd32....\n",
    "Setlect kernel in VSC, supply this url\n",
    "Then select \"ml-kernel\" which points to the right site packages list"
   ]
  },
  {
   "cell_type": "code",
   "execution_count": 64,
   "metadata": {},
   "outputs": [],
   "source": [
    "import torch\n",
    "from torch import nn, optim\n",
    "import matplotlib.pyplot as plt\n",
    "import numpy as np\n",
    "import glob\n",
    "import os\n",
    "os.chdir(r\"C:\\Users\\Tim\\Documents\\GitHub\\AdventofCode\\Day 14\")\n",
    "from PIL import Image\n",
    "import PIL.ImageOps as ImOp"
   ]
  },
  {
   "cell_type": "code",
   "execution_count": null,
   "metadata": {},
   "outputs": [
    {
     "name": "stdout",
     "output_type": "stream",
     "text": [
      "torch.float32\n",
      "torch.float32\n"
     ]
    },
    {
     "data": {
      "image/png": "[encoded data removed]",
      "text/plain": [
       "<Figure size 640x480 with 1 Axes>"
      ]
     },
     "metadata": {},
     "output_type": "display_data"
    }
   ],
   "source": [
    "# load/create dataset\n",
    "tree_dataset = []\n",
    "for path in glob.glob(r\"data\\tree*\"):\n",
    "    image = Image.open(path).convert(\"L\")\n",
    "    image = ImOp.invert(image)\n",
    "    image = np.array(image, dtype=np.float32)\n",
    "    X = torch.tensor(image).reshape(1,1,103,101)\n",
    "    tree_dataset.append(X)\n",
    "plt.imshow(image)\n",
    "shape = image.shape\n",
    "size = image.size\n",
    "\n",
    "# create non-tree images\n",
    "null_dataset = []\n",
    "for _ in range(20):\n",
    "    indices = np.random.choice(size, 500, replace=False)\n",
    "    image = np.full(shape, 0, dtype=np.float32)\n",
    "    image.ravel()[indices] = 1\n",
    "    X = torch.tensor(image).reshape(1,1,103,101)\n",
    "    null_dataset.append(X)"
   ]
  },
  {
   "cell_type": "code",
   "execution_count": 107,
   "metadata": {},
   "outputs": [],
   "source": [
    "# build the network\n",
    "    # structure copied from the MNIST numerical recognition example\n",
    "model = nn.Sequential(\n",
    "    nn.Conv2d(1, 10, kernel_size=5),\n",
    "    nn.ReLU(),\n",
    "    nn.MaxPool2d(2, 2),\n",
    "    nn.Conv2d(10, 20, kernel_size=5),\n",
    "    nn.ReLU(),\n",
    "    nn.MaxPool2d(2, 2),\n",
    "    nn.Flatten(1),\n",
    "    nn.Linear(9680, 50),\n",
    "    nn.Linear(50,1)\n",
    ")\n"
   ]
  },
  {
   "cell_type": "code",
   "execution_count": 101,
   "metadata": {},
   "outputs": [],
   "source": [
    "def get_img(idx):\n",
    "    if idx < (l:=len(tree_dataset)):\n",
    "        return tree_dataset[idx], torch.tensor(1.0)\n",
    "    else:\n",
    "        return null_dataset[idx-l], torch.tensor(0.0)"
   ]
  },
  {
   "cell_type": "code",
   "execution_count": 114,
   "metadata": {},
   "outputs": [
    {
     "name": "stderr",
     "output_type": "stream",
     "text": [
      "C:\\Users\\Tim\\Documents\\School\\2023-2024\\Spring Semester\\Machine Learning\\Homework\\.venv\\lib\\site-packages\\torch\\nn\\modules\\loss.py:535: UserWarning: Using a target size (torch.Size([])) that is different to the input size (torch.Size([1, 1])). This will likely lead to incorrect results due to broadcasting. Please ensure they have the same size.\n",
      "  return F.mse_loss(input, target, reduction=self.reduction)\n"
     ]
    }
   ],
   "source": [
    "epochs = 100\n",
    "opt = optim.SGD(model.parameters(), lr=0.01)\n",
    "lossfun = nn.MSELoss()\n",
    "for _ in range(epochs):\n",
    "    for sample_i in np.random.permutation(len(tree_dataset) + len(null_dataset)):\n",
    "        X, Y = get_img(sample_i)\n",
    "\n",
    "        pred = model(X)\n",
    "        loss = lossfun(pred, Y)\n",
    "        opt.zero_grad()\n",
    "        loss.backward()\n",
    "        opt.step()\n",
    "        "
   ]
  },
  {
   "cell_type": "code",
   "execution_count": 115,
   "metadata": {},
   "outputs": [
    {
     "name": "stdout",
     "output_type": "stream",
     "text": [
      "nan\n"
     ]
    }
   ],
   "source": [
    "X, Y = get_img(0)\n",
    "print(model(X).item())"
   ]
  }
 ],
 "metadata": {
  "kernelspec": {
   "display_name": "ml-kernel",
   "language": "python",
   "name": "ml-kernel"
  },
  "language_info": {
   "codemirror_mode": {
    "name": "ipython",
    "version": 3
   },
   "file_extension": ".py",
   "mimetype": "text/x-python",
   "name": "python",
   "nbconvert_exporter": "python",
   "pygments_lexer": "ipython3",
   "version": "3.10.6"
  }
 },
 "nbformat": 4,
 "nbformat_minor": 2
}
